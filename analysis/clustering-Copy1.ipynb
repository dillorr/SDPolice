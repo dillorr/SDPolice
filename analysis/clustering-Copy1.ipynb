{
 "cells": [
  {
   "cell_type": "code",
   "execution_count": 2,
   "metadata": {
    "colab": {},
    "colab_type": "code",
    "executionInfo": {
     "elapsed": 552,
     "status": "ok",
     "timestamp": 1600142310716,
     "user": {
      "displayName": "Dillon Orr",
      "photoUrl": "https://lh3.googleusercontent.com/a-/AOh14GhZTvBi8ofohgLq8_2C5rlsgMi8VUlaAYCsrNLgeg=s64",
      "userId": "08724767709533058264"
     },
     "user_tz": 420
    },
    "id": "C_kNCjjJ29fA"
   },
   "outputs": [],
   "source": [
    "# from google.colab import drive\n",
    "# drive.mount('/content/drive')"
   ]
  },
  {
   "cell_type": "code",
   "execution_count": 3,
   "metadata": {
    "colab": {},
    "colab_type": "code",
    "executionInfo": {
     "elapsed": 633,
     "status": "ok",
     "timestamp": 1600142312413,
     "user": {
      "displayName": "Dillon Orr",
      "photoUrl": "https://lh3.googleusercontent.com/a-/AOh14GhZTvBi8ofohgLq8_2C5rlsgMi8VUlaAYCsrNLgeg=s64",
      "userId": "08724767709533058264"
     },
     "user_tz": 420
    },
    "id": "T8Qx1E7725Qj"
   },
   "outputs": [],
   "source": [
    "import pandas as pd"
   ]
  },
  {
   "cell_type": "code",
   "execution_count": 4,
   "metadata": {
    "colab": {},
    "colab_type": "code",
    "executionInfo": {
     "elapsed": 868,
     "status": "ok",
     "timestamp": 1600142313046,
     "user": {
      "displayName": "Dillon Orr",
      "photoUrl": "https://lh3.googleusercontent.com/a-/AOh14GhZTvBi8ofohgLq8_2C5rlsgMi8VUlaAYCsrNLgeg=s64",
      "userId": "08724767709533058264"
     },
     "user_tz": 420
    },
    "id": "bqd9DPUb25RG"
   },
   "outputs": [],
   "source": [
    "# actions taken\n",
    "path = r'../policeData/actionsTaken/ripa_actions_taken_datasd.csv'\n",
    "actionsTaken = pd.read_csv(path)"
   ]
  },
  {
   "cell_type": "code",
   "execution_count": null,
   "metadata": {},
   "outputs": [],
   "source": []
  },
  {
   "cell_type": "code",
   "execution_count": 5,
   "metadata": {
    "colab": {},
    "colab_type": "code",
    "executionInfo": {
     "elapsed": 631,
     "status": "ok",
     "timestamp": 1600142313355,
     "user": {
      "displayName": "Dillon Orr",
      "photoUrl": "https://lh3.googleusercontent.com/a-/AOh14GhZTvBi8ofohgLq8_2C5rlsgMi8VUlaAYCsrNLgeg=s64",
      "userId": "08724767709533058264"
     },
     "user_tz": 420
    },
    "id": "dgfZL_Fx25RL"
   },
   "outputs": [],
   "source": [
    "# basis For Property Seizure\n",
    "path = r'../policeData/basisForPropertySeizure/ripa_prop_seize_basis_datasd.csv'\n",
    "seizureBasis = pd.read_csv(path)"
   ]
  },
  {
   "cell_type": "code",
   "execution_count": 6,
   "metadata": {
    "colab": {},
    "colab_type": "code",
    "executionInfo": {
     "elapsed": 932,
     "status": "ok",
     "timestamp": 1600142313918,
     "user": {
      "displayName": "Dillon Orr",
      "photoUrl": "https://lh3.googleusercontent.com/a-/AOh14GhZTvBi8ofohgLq8_2C5rlsgMi8VUlaAYCsrNLgeg=s64",
      "userId": "08724767709533058264"
     },
     "user_tz": 420
    },
    "id": "JZsfUiub25RO"
   },
   "outputs": [],
   "source": [
    "# basis for search\n",
    "path = r'../policeData/basisForSearchesConducted/ripa_search_basis_datasd.csv'\n",
    "searchBasis = pd.read_csv(path)"
   ]
  },
  {
   "cell_type": "code",
   "execution_count": 7,
   "metadata": {
    "colab": {},
    "colab_type": "code",
    "executionInfo": {
     "elapsed": 732,
     "status": "ok",
     "timestamp": 1600142313919,
     "user": {
      "displayName": "Dillon Orr",
      "photoUrl": "https://lh3.googleusercontent.com/a-/AOh14GhZTvBi8ofohgLq8_2C5rlsgMi8VUlaAYCsrNLgeg=s64",
      "userId": "08724767709533058264"
     },
     "user_tz": 420
    },
    "id": "fYISu8bz25RB"
   },
   "outputs": [],
   "source": [
    "# disability\n",
    "path = r'../policeData/disabilityOfPersons/ripa_disability_datasd.csv'\n",
    "disability = pd.read_csv(path)"
   ]
  },
  {
   "cell_type": "code",
   "execution_count": 8,
   "metadata": {
    "colab": {},
    "colab_type": "code",
    "executionInfo": {
     "elapsed": 711,
     "status": "ok",
     "timestamp": 1600142314137,
     "user": {
      "displayName": "Dillon Orr",
      "photoUrl": "https://lh3.googleusercontent.com/a-/AOh14GhZTvBi8ofohgLq8_2C5rlsgMi8VUlaAYCsrNLgeg=s64",
      "userId": "08724767709533058264"
     },
     "user_tz": 420
    },
    "id": "3xQkm-Rg25Q9"
   },
   "outputs": [],
   "source": [
    "# gender\n",
    "path = r'../policeData/genderOfPersons/ripa_gender_datasd.csv'\n",
    "gender = pd.read_csv(path)"
   ]
  },
  {
   "cell_type": "code",
   "execution_count": 9,
   "metadata": {
    "colab": {},
    "colab_type": "code",
    "executionInfo": {
     "elapsed": 933,
     "status": "ok",
     "timestamp": 1600142314613,
     "user": {
      "displayName": "Dillon Orr",
      "photoUrl": "https://lh3.googleusercontent.com/a-/AOh14GhZTvBi8ofohgLq8_2C5rlsgMi8VUlaAYCsrNLgeg=s64",
      "userId": "08724767709533058264"
     },
     "user_tz": 420
    },
    "id": "cOqA3OZz25RR"
   },
   "outputs": [],
   "source": [
    "# property seized\n",
    "path = r'../policeData/propertySeized/ripa_prop_seize_type_datasd.csv'\n",
    "propertySeized = pd.read_csv(path)"
   ]
  },
  {
   "cell_type": "code",
   "execution_count": 10,
   "metadata": {
    "colab": {},
    "colab_type": "code",
    "executionInfo": {
     "elapsed": 622,
     "status": "ok",
     "timestamp": 1600142314614,
     "user": {
      "displayName": "Dillon Orr",
      "photoUrl": "https://lh3.googleusercontent.com/a-/AOh14GhZTvBi8ofohgLq8_2C5rlsgMi8VUlaAYCsrNLgeg=s64",
      "userId": "08724767709533058264"
     },
     "user_tz": 420
    },
    "id": "vLq8xQwE25Q4"
   },
   "outputs": [],
   "source": [
    "# race data\n",
    "path = r'../policeData/raceOfPersons/ripa_race_datasd.csv'\n",
    "race = pd.read_csv(path)"
   ]
  },
  {
   "cell_type": "code",
   "execution_count": 11,
   "metadata": {
    "colab": {},
    "colab_type": "code",
    "executionInfo": {
     "elapsed": 1431,
     "status": "ok",
     "timestamp": 1600142315763,
     "user": {
      "displayName": "Dillon Orr",
      "photoUrl": "https://lh3.googleusercontent.com/a-/AOh14GhZTvBi8ofohgLq8_2C5rlsgMi8VUlaAYCsrNLgeg=s64",
      "userId": "08724767709533058264"
     },
     "user_tz": 420
    },
    "id": "WvyhbXPT25Qq"
   },
   "outputs": [
    {
     "name": "stderr",
     "output_type": "stream",
     "text": [
      "C:\\Users\\dillon\\anaconda3\\lib\\site-packages\\IPython\\core\\interactiveshell.py:3071: DtypeWarning: Columns (3) have mixed types.Specify dtype option on import or set low_memory=False.\n",
      "  has_raised = await self.run_ast_nodes(code_ast.body, cell_name,\n"
     ]
    }
   ],
   "source": [
    "# reason for stop data\n",
    "path = r'../policeData/reasonForStop/ripa_stop_reason_datasd.csv'\n",
    "reason = pd.read_csv(path)"
   ]
  },
  {
   "cell_type": "code",
   "execution_count": 12,
   "metadata": {
    "colab": {},
    "colab_type": "code",
    "executionInfo": {
     "elapsed": 1916,
     "status": "ok",
     "timestamp": 1600142316794,
     "user": {
      "displayName": "Dillon Orr",
      "photoUrl": "https://lh3.googleusercontent.com/a-/AOh14GhZTvBi8ofohgLq8_2C5rlsgMi8VUlaAYCsrNLgeg=s64",
      "userId": "08724767709533058264"
     },
     "user_tz": 420
    },
    "id": "egKwO2Iw25RV"
   },
   "outputs": [],
   "source": [
    "# stop result\n",
    "path = r'../policeData/resultOfStop/ripa_stop_result_datasd.csv'\n",
    "stopResult = pd.read_csv(path)"
   ]
  },
  {
   "cell_type": "code",
   "execution_count": 13,
   "metadata": {
    "colab": {},
    "colab_type": "code",
    "executionInfo": {
     "elapsed": 2223,
     "status": "ok",
     "timestamp": 1600144651103,
     "user": {
      "displayName": "Dillon Orr",
      "photoUrl": "https://lh3.googleusercontent.com/a-/AOh14GhZTvBi8ofohgLq8_2C5rlsgMi8VUlaAYCsrNLgeg=s64",
      "userId": "08724767709533058264"
     },
     "user_tz": 420
    },
    "id": "SOmqS82R25RY"
   },
   "outputs": [
    {
     "name": "stderr",
     "output_type": "stream",
     "text": [
      "C:\\Users\\dillon\\anaconda3\\lib\\site-packages\\IPython\\core\\interactiveshell.py:3071: DtypeWarning: Columns (12) have mixed types.Specify dtype option on import or set low_memory=False.\n",
      "  has_raised = await self.run_ast_nodes(code_ast.body, cell_name,\n"
     ]
    }
   ],
   "source": [
    "# stop details\n",
    "path = r'../policeData/stopDetails/ripa_stops_datasd.csv'\n",
    "datesToParse = ['date_stop','time_stop']\n",
    "stopDetails = pd.read_csv(path)"
   ]
  },
  {
   "cell_type": "code",
   "execution_count": null,
   "metadata": {},
   "outputs": [],
   "source": [
    "from functools import reduce\n",
    "\n",
    "dataframes = [reason, race, gender, disability, actionsTaken, seizureBasis, searchBasis, propertySeized, stopResult, stopDetails]\n",
    "df_merged = reduce(lambda  left,right: pd.merge(left,right,on=['stop_id'],\n",
    "                                            how='outer'), dataframes).fillna('void')\n"
   ]
  },
  {
   "cell_type": "code",
   "execution_count": null,
   "metadata": {},
   "outputs": [],
   "source": []
  }
 ],
 "metadata": {
  "colab": {
   "collapsed_sections": [],
   "name": "clustering.ipynb",
   "provenance": []
  },
  "kernelspec": {
   "display_name": "Python 3",
   "language": "python",
   "name": "python3"
  },
  "language_info": {
   "codemirror_mode": {
    "name": "ipython",
    "version": 3
   },
   "file_extension": ".py",
   "mimetype": "text/x-python",
   "name": "python",
   "nbconvert_exporter": "python",
   "pygments_lexer": "ipython3",
   "version": "3.8.3"
  }
 },
 "nbformat": 4,
 "nbformat_minor": 4
}
