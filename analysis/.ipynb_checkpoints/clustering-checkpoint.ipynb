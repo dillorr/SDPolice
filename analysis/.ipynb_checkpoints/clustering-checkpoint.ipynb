{
 "cells": [
  {
   "cell_type": "code",
   "execution_count": 2,
   "metadata": {
    "colab": {},
    "colab_type": "code",
    "executionInfo": {
     "elapsed": 552,
     "status": "ok",
     "timestamp": 1600142310716,
     "user": {
      "displayName": "Dillon Orr",
      "photoUrl": "https://lh3.googleusercontent.com/a-/AOh14GhZTvBi8ofohgLq8_2C5rlsgMi8VUlaAYCsrNLgeg=s64",
      "userId": "08724767709533058264"
     },
     "user_tz": 420
    },
    "id": "C_kNCjjJ29fA"
   },
   "outputs": [],
   "source": [
    "# from google.colab import drive\n",
    "# drive.mount('/content/drive')"
   ]
  },
  {
   "cell_type": "code",
   "execution_count": 17,
   "metadata": {
    "colab": {},
    "colab_type": "code",
    "executionInfo": {
     "elapsed": 633,
     "status": "ok",
     "timestamp": 1600142312413,
     "user": {
      "displayName": "Dillon Orr",
      "photoUrl": "https://lh3.googleusercontent.com/a-/AOh14GhZTvBi8ofohgLq8_2C5rlsgMi8VUlaAYCsrNLgeg=s64",
      "userId": "08724767709533058264"
     },
     "user_tz": 420
    },
    "id": "T8Qx1E7725Qj"
   },
   "outputs": [],
   "source": [
    "import pandas as pd"
   ]
  },
  {
   "cell_type": "code",
   "execution_count": 18,
   "metadata": {
    "colab": {},
    "colab_type": "code",
    "executionInfo": {
     "elapsed": 868,
     "status": "ok",
     "timestamp": 1600142313046,
     "user": {
      "displayName": "Dillon Orr",
      "photoUrl": "https://lh3.googleusercontent.com/a-/AOh14GhZTvBi8ofohgLq8_2C5rlsgMi8VUlaAYCsrNLgeg=s64",
      "userId": "08724767709533058264"
     },
     "user_tz": 420
    },
    "id": "bqd9DPUb25RG"
   },
   "outputs": [],
   "source": [
    "# actions taken\n",
    "path = r'../policeData/actionsTaken/ripa_actions_taken_datasd.csv'\n",
    "actionsTaken = pd.read_csv(path, dtype={'stop_id': int,\n",
    "                              'pid': int,\n",
    "                             'action': str,\n",
    "                                  'consented': str})"
   ]
  },
  {
   "cell_type": "code",
   "execution_count": 19,
   "metadata": {
    "colab": {},
    "colab_type": "code",
    "executionInfo": {
     "elapsed": 631,
     "status": "ok",
     "timestamp": 1600142313355,
     "user": {
      "displayName": "Dillon Orr",
      "photoUrl": "https://lh3.googleusercontent.com/a-/AOh14GhZTvBi8ofohgLq8_2C5rlsgMi8VUlaAYCsrNLgeg=s64",
      "userId": "08724767709533058264"
     },
     "user_tz": 420
    },
    "id": "dgfZL_Fx25RL"
   },
   "outputs": [],
   "source": [
    "# basis For Property Seizure\n",
    "path = r'../policeData/basisForPropertySeizure/ripa_prop_seize_basis_datasd.csv'\n",
    "seizureBasis = pd.read_csv(path, dtype={'stop_id': int,\n",
    "                              'pid': int,\n",
    "                             'basisforpropertyseizure': str})"
   ]
  },
  {
   "cell_type": "code",
   "execution_count": 20,
   "metadata": {
    "colab": {},
    "colab_type": "code",
    "executionInfo": {
     "elapsed": 932,
     "status": "ok",
     "timestamp": 1600142313918,
     "user": {
      "displayName": "Dillon Orr",
      "photoUrl": "https://lh3.googleusercontent.com/a-/AOh14GhZTvBi8ofohgLq8_2C5rlsgMi8VUlaAYCsrNLgeg=s64",
      "userId": "08724767709533058264"
     },
     "user_tz": 420
    },
    "id": "JZsfUiub25RO"
   },
   "outputs": [],
   "source": [
    "# basis for search\n",
    "path = r'../policeData/basisForSearchesConducted/ripa_search_basis_datasd.csv'\n",
    "searchBasis = pd.read_csv(path, dtype={'stop_id': int,\n",
    "                              'pid': int,\n",
    "                             'basis_for_search': str,\n",
    "                                'basis_for_search_explanation': str})"
   ]
  },
  {
   "cell_type": "code",
   "execution_count": 21,
   "metadata": {
    "colab": {},
    "colab_type": "code",
    "executionInfo": {
     "elapsed": 732,
     "status": "ok",
     "timestamp": 1600142313919,
     "user": {
      "displayName": "Dillon Orr",
      "photoUrl": "https://lh3.googleusercontent.com/a-/AOh14GhZTvBi8ofohgLq8_2C5rlsgMi8VUlaAYCsrNLgeg=s64",
      "userId": "08724767709533058264"
     },
     "user_tz": 420
    },
    "id": "fYISu8bz25RB"
   },
   "outputs": [],
   "source": [
    "# disability\n",
    "path = r'../policeData/disabilityOfPersons/ripa_disability_datasd.csv'\n",
    "disability = pd.read_csv(path, dtype={'stop_id': int,\n",
    "                              'pid': int,\n",
    "                             'disability': str})"
   ]
  },
  {
   "cell_type": "code",
   "execution_count": 22,
   "metadata": {
    "colab": {},
    "colab_type": "code",
    "executionInfo": {
     "elapsed": 711,
     "status": "ok",
     "timestamp": 1600142314137,
     "user": {
      "displayName": "Dillon Orr",
      "photoUrl": "https://lh3.googleusercontent.com/a-/AOh14GhZTvBi8ofohgLq8_2C5rlsgMi8VUlaAYCsrNLgeg=s64",
      "userId": "08724767709533058264"
     },
     "user_tz": 420
    },
    "id": "3xQkm-Rg25Q9"
   },
   "outputs": [],
   "source": [
    "# gender\n",
    "path = r'../policeData/genderOfPersons/ripa_gender_datasd.csv'\n",
    "gender = pd.read_csv(path, dtype={'stop_id': int,\n",
    "                              'pid': int,\n",
    "                             'gender': str})"
   ]
  },
  {
   "cell_type": "code",
   "execution_count": 23,
   "metadata": {
    "colab": {},
    "colab_type": "code",
    "executionInfo": {
     "elapsed": 933,
     "status": "ok",
     "timestamp": 1600142314613,
     "user": {
      "displayName": "Dillon Orr",
      "photoUrl": "https://lh3.googleusercontent.com/a-/AOh14GhZTvBi8ofohgLq8_2C5rlsgMi8VUlaAYCsrNLgeg=s64",
      "userId": "08724767709533058264"
     },
     "user_tz": 420
    },
    "id": "cOqA3OZz25RR"
   },
   "outputs": [],
   "source": [
    "# property seized\n",
    "path = r'../policeData/propertySeized/ripa_prop_seize_type_datasd.csv'\n",
    "propertySeized = pd.read_csv(path, dtype={'stop_id': int,\n",
    "                              'pid': int,\n",
    "                             'type_of_propery_seized': str})"
   ]
  },
  {
   "cell_type": "code",
   "execution_count": 24,
   "metadata": {
    "colab": {},
    "colab_type": "code",
    "executionInfo": {
     "elapsed": 622,
     "status": "ok",
     "timestamp": 1600142314614,
     "user": {
      "displayName": "Dillon Orr",
      "photoUrl": "https://lh3.googleusercontent.com/a-/AOh14GhZTvBi8ofohgLq8_2C5rlsgMi8VUlaAYCsrNLgeg=s64",
      "userId": "08724767709533058264"
     },
     "user_tz": 420
    },
    "id": "vLq8xQwE25Q4"
   },
   "outputs": [],
   "source": [
    "# race data\n",
    "path = r'../policeData/raceOfPersons/ripa_race_datasd.csv'\n",
    "race = pd.read_csv(path, dtype={'stop_id': int,\n",
    "                              'pid': int,\n",
    "                             'race': str})"
   ]
  },
  {
   "cell_type": "code",
   "execution_count": 25,
   "metadata": {
    "colab": {},
    "colab_type": "code",
    "executionInfo": {
     "elapsed": 1431,
     "status": "ok",
     "timestamp": 1600142315763,
     "user": {
      "displayName": "Dillon Orr",
      "photoUrl": "https://lh3.googleusercontent.com/a-/AOh14GhZTvBi8ofohgLq8_2C5rlsgMi8VUlaAYCsrNLgeg=s64",
      "userId": "08724767709533058264"
     },
     "user_tz": 420
    },
    "id": "WvyhbXPT25Qq"
   },
   "outputs": [],
   "source": [
    "# reason for stop data\n",
    "path = r'../policeData/reasonForStop/ripa_stop_reason_datasd.csv'\n",
    "reason = pd.read_csv(path, dtype={'stop_id': int,\n",
    "                              'reason_for_stop': str,\n",
    "                             'reason_for_stopcode': str,\n",
    "                             'reason_for_stopcode_text': str,\n",
    "                             'reason_for_stop_detail': str,\n",
    "                             'reason_for_stop_explanation': str})"
   ]
  },
  {
   "cell_type": "code",
   "execution_count": 26,
   "metadata": {
    "colab": {},
    "colab_type": "code",
    "executionInfo": {
     "elapsed": 1916,
     "status": "ok",
     "timestamp": 1600142316794,
     "user": {
      "displayName": "Dillon Orr",
      "photoUrl": "https://lh3.googleusercontent.com/a-/AOh14GhZTvBi8ofohgLq8_2C5rlsgMi8VUlaAYCsrNLgeg=s64",
      "userId": "08724767709533058264"
     },
     "user_tz": 420
    },
    "id": "egKwO2Iw25RV"
   },
   "outputs": [],
   "source": [
    "# stop result\n",
    "path = r'../policeData/resultOfStop/ripa_stop_result_datasd.csv'\n",
    "stopResult = pd.read_csv(path, dtype={'stop_id': int,\n",
    "                                  'pid': int,\n",
    "                                'resultkey': int,\n",
    "                                   'result': str,\n",
    "                                   'code': float,\n",
    "                             'resulttext': str})"
   ]
  },
  {
   "cell_type": "code",
   "execution_count": 27,
   "metadata": {
    "colab": {},
    "colab_type": "code",
    "executionInfo": {
     "elapsed": 2223,
     "status": "ok",
     "timestamp": 1600144651103,
     "user": {
      "displayName": "Dillon Orr",
      "photoUrl": "https://lh3.googleusercontent.com/a-/AOh14GhZTvBi8ofohgLq8_2C5rlsgMi8VUlaAYCsrNLgeg=s64",
      "userId": "08724767709533058264"
     },
     "user_tz": 420
    },
    "id": "SOmqS82R25RY"
   },
   "outputs": [],
   "source": [
    "# stop details\n",
    "path = r'../policeData/stopDetails/ripa_stops_datasd.csv'\n",
    "datesToParse = ['date_stop','time_stop']\n",
    "stopDetails = pd.read_csv(path, dtype={'stop_id': int,\n",
    "                                  'ori': str,\n",
    "                                 'agency': str,\n",
    "                                 'exp_years': int,\n",
    "                                 'date_stop': str,\n",
    "                                 'time_stop': str,\n",
    "                                 'stopduration': int,\n",
    "                                 'stop_in_response_to_cfs': bool,\n",
    "                                  'officer_assignment_key': int,\n",
    "                                  'assignment': str,\n",
    "                                  'intersection': str,\n",
    "                                  'address_block': float,\n",
    "                                  'land_mark': str,\n",
    "                                  'address_street': str,\n",
    "                                  'highway_exit':str,\n",
    "                                  'isschool': bool,\n",
    "                                  'address_city':str,\n",
    "                                  'beat':int,\n",
    "                                  'beat_name':str,\n",
    "                                  'pid':int,\n",
    "                                  'isstudent':bool,\n",
    "                                  'perceived_limited_english': bool,\n",
    "                                  'perceived_age': int,\n",
    "                                  'perceived_gender': str,\n",
    "                                  'gender_nonconforming': bool,\n",
    "                                  'gend': int,\n",
    "                                  'gend_nc': str,\n",
    "                                  'perceived_lgbt': str})"
   ]
  },
  {
   "cell_type": "code",
   "execution_count": 29,
   "metadata": {
    "colab": {},
    "colab_type": "code",
    "id": "03XZblTp25Rf"
   },
   "outputs": [
    {
     "ename": "AttributeError",
     "evalue": "'TextFileReader' object has no attribute 'merge'",
     "output_type": "error",
     "traceback": [
      "\u001b[1;31m---------------------------------------------------------------------------\u001b[0m",
      "\u001b[1;31mAttributeError\u001b[0m                            Traceback (most recent call last)",
      "\u001b[1;32m<ipython-input-29-d4f9e44b62d7>\u001b[0m in \u001b[0;36m<module>\u001b[1;34m\u001b[0m\n\u001b[1;32m----> 1\u001b[1;33m \u001b[0mmerged\u001b[0m \u001b[1;33m=\u001b[0m \u001b[0mreason\u001b[0m\u001b[1;33m.\u001b[0m\u001b[0mmerge\u001b[0m\u001b[1;33m(\u001b[0m\u001b[0mrace\u001b[0m\u001b[1;33m,\u001b[0m \u001b[0mon\u001b[0m\u001b[1;33m=\u001b[0m\u001b[1;34m'stop_id'\u001b[0m\u001b[1;33m,\u001b[0m \u001b[0mhow\u001b[0m \u001b[1;33m=\u001b[0m\u001b[1;34m'left'\u001b[0m\u001b[1;33m)\u001b[0m\u001b[1;33m\u001b[0m\u001b[1;33m\u001b[0m\u001b[0m\n\u001b[0m\u001b[0;32m      2\u001b[0m \u001b[0miterate\u001b[0m \u001b[1;33m=\u001b[0m \u001b[1;33m[\u001b[0m\u001b[0mgender\u001b[0m\u001b[1;33m,\u001b[0m \u001b[0mdisability\u001b[0m\u001b[1;33m,\u001b[0m \u001b[0mactionsTaken\u001b[0m\u001b[1;33m,\u001b[0m \u001b[0mseizureBasis\u001b[0m\u001b[1;33m,\u001b[0m \u001b[0msearchBasis\u001b[0m\u001b[1;33m,\u001b[0m \u001b[0mpropertySeized\u001b[0m\u001b[1;33m,\u001b[0m \u001b[0mstopResult\u001b[0m\u001b[1;33m,\u001b[0m \u001b[0mstopDetails\u001b[0m\u001b[1;33m]\u001b[0m\u001b[1;33m\u001b[0m\u001b[1;33m\u001b[0m\u001b[0m\n\u001b[0;32m      3\u001b[0m \u001b[1;33m\u001b[0m\u001b[0m\n\u001b[0;32m      4\u001b[0m \u001b[1;32mfor\u001b[0m \u001b[0mx\u001b[0m \u001b[1;32min\u001b[0m \u001b[0miterate\u001b[0m\u001b[1;33m:\u001b[0m\u001b[1;33m\u001b[0m\u001b[1;33m\u001b[0m\u001b[0m\n\u001b[0;32m      5\u001b[0m     \u001b[0mmerged\u001b[0m \u001b[1;33m=\u001b[0m \u001b[0mmerged\u001b[0m\u001b[1;33m.\u001b[0m\u001b[0mmerge\u001b[0m\u001b[1;33m(\u001b[0m\u001b[0mx\u001b[0m\u001b[1;33m,\u001b[0m \u001b[0mon\u001b[0m\u001b[1;33m=\u001b[0m\u001b[1;34m'stop_id'\u001b[0m\u001b[1;33m,\u001b[0m \u001b[0mhow\u001b[0m \u001b[1;33m=\u001b[0m\u001b[1;34m'left'\u001b[0m\u001b[1;33m)\u001b[0m\u001b[1;33m\u001b[0m\u001b[1;33m\u001b[0m\u001b[0m\n",
      "\u001b[1;31mAttributeError\u001b[0m: 'TextFileReader' object has no attribute 'merge'"
     ]
    }
   ],
   "source": [
    "merged = reason.merge(race, on='stop_id', how ='left')\n",
    "iterate = [gender, disability, actionsTaken, seizureBasis, searchBasis, propertySeized, stopResult, stopDetails]\n",
    "\n",
    "for x in iterate:\n",
    "    merged = merged.merge(x, on='stop_id', how ='left')\n",
    "# from functools import reduce\n",
    "\n",
    "# dataframes = [reason, race, gender, disability, actionsTaken, seizureBasis, searchBasis, propertySeized, stopResult, stopDetails]\n",
    "# df_merged = reduce(lambda  left,right: pd.merge(left,right,on=['stop_id'],\n",
    "#                                             how='outer'), dataframes).fillna('void')\n"
   ]
  },
  {
   "cell_type": "code",
   "execution_count": 17,
   "metadata": {
    "colab": {},
    "colab_type": "code",
    "id": "mD1-eeGY25Rn",
    "outputId": "6fc43bf9-5136-4d9f-c283-42d6d8ac0f65"
   },
   "outputs": [
    {
     "data": {
      "text/html": [
       "<div>\n",
       "<style scoped>\n",
       "    .dataframe tbody tr th:only-of-type {\n",
       "        vertical-align: middle;\n",
       "    }\n",
       "\n",
       "    .dataframe tbody tr th {\n",
       "        vertical-align: top;\n",
       "    }\n",
       "\n",
       "    .dataframe thead th {\n",
       "        text-align: right;\n",
       "    }\n",
       "</style>\n",
       "<table border=\"1\" class=\"dataframe\">\n",
       "  <thead>\n",
       "    <tr style=\"text-align: right;\">\n",
       "      <th></th>\n",
       "      <th>stop_id</th>\n",
       "      <th>pid_x</th>\n",
       "      <th>reason_for_stop</th>\n",
       "      <th>reason_for_stopcode</th>\n",
       "      <th>reason_for_stop_code_text</th>\n",
       "      <th>reason_for_stop_detail</th>\n",
       "      <th>reason_for_stop_explanation</th>\n",
       "      <th>pid_y</th>\n",
       "      <th>race</th>\n",
       "      <th>pid_x</th>\n",
       "      <th>gender</th>\n",
       "      <th>pid_y</th>\n",
       "      <th>disability</th>\n",
       "    </tr>\n",
       "  </thead>\n",
       "  <tbody>\n",
       "    <tr>\n",
       "      <th>35813801</th>\n",
       "      <td>183655</td>\n",
       "      <td>26</td>\n",
       "      <td>Reasonable Suspicion</td>\n",
       "      <td>65002.0</td>\n",
       "      <td>65002 ZZ - LOCAL ORDINANCE VIOL (I) 65002</td>\n",
       "      <td>Officer witnessed commission of a crime</td>\n",
       "      <td>VIOLATION OF BEACH / BOARDWALK RULES</td>\n",
       "      <td>9</td>\n",
       "      <td>Hispanic/Latino/a</td>\n",
       "      <td>35</td>\n",
       "      <td>Female</td>\n",
       "      <td>10</td>\n",
       "      <td>None</td>\n",
       "    </tr>\n",
       "    <tr>\n",
       "      <th>39966756</th>\n",
       "      <td>184085</td>\n",
       "      <td>28</td>\n",
       "      <td>Reasonable Suspicion</td>\n",
       "      <td>65000.0</td>\n",
       "      <td>65000 ZZ - LOCAL ORDINANCE VIOL (M) 65000</td>\n",
       "      <td>Officer witnessed commission of a crime</td>\n",
       "      <td>ped stop involving alcohol</td>\n",
       "      <td>22</td>\n",
       "      <td>White</td>\n",
       "      <td>5</td>\n",
       "      <td>Male</td>\n",
       "      <td>8</td>\n",
       "      <td>None</td>\n",
       "    </tr>\n",
       "    <tr>\n",
       "      <th>8739975</th>\n",
       "      <td>167322</td>\n",
       "      <td>7</td>\n",
       "      <td>Reasonable Suspicion</td>\n",
       "      <td>65000</td>\n",
       "      <td>65000 ZZ - LOCAL ORDINANCE VIOL (M) 65000</td>\n",
       "      <td>Officer witnessed commission of a crime</td>\n",
       "      <td>ped stop</td>\n",
       "      <td>2</td>\n",
       "      <td>White</td>\n",
       "      <td>12</td>\n",
       "      <td>Male</td>\n",
       "      <td>3</td>\n",
       "      <td>None</td>\n",
       "    </tr>\n",
       "    <tr>\n",
       "      <th>29896118</th>\n",
       "      <td>180326</td>\n",
       "      <td>27</td>\n",
       "      <td>Reasonable Suspicion</td>\n",
       "      <td>65000.0</td>\n",
       "      <td>65000 ZZ - LOCAL ORDINANCE VIOL (M) 65000</td>\n",
       "      <td>Officer witnessed commission of a crime</td>\n",
       "      <td>ped stop</td>\n",
       "      <td>19</td>\n",
       "      <td>Hispanic/Latino/a</td>\n",
       "      <td>7</td>\n",
       "      <td>Male</td>\n",
       "      <td>36</td>\n",
       "      <td>None</td>\n",
       "    </tr>\n",
       "    <tr>\n",
       "      <th>36588830</th>\n",
       "      <td>183655</td>\n",
       "      <td>38</td>\n",
       "      <td>Reasonable Suspicion</td>\n",
       "      <td>65002.0</td>\n",
       "      <td>65002 ZZ - LOCAL ORDINANCE VIOL (I) 65002</td>\n",
       "      <td>Officer witnessed commission of a crime</td>\n",
       "      <td>VIOLATION OF BEACH / BOARDWALK RULES</td>\n",
       "      <td>14</td>\n",
       "      <td>Middle Eastern or South Asian</td>\n",
       "      <td>10</td>\n",
       "      <td>Male</td>\n",
       "      <td>39</td>\n",
       "      <td>None</td>\n",
       "    </tr>\n",
       "    <tr>\n",
       "      <th>5632174</th>\n",
       "      <td>162022</td>\n",
       "      <td>11</td>\n",
       "      <td>Reasonable Suspicion</td>\n",
       "      <td>65002</td>\n",
       "      <td>65002 ZZ - LOCAL ORDINANCE VIOL (I) 65002</td>\n",
       "      <td>Officer witnessed commission of a crime</td>\n",
       "      <td>PACIFIC BEACH/MISSION BEACH/MISSION BAY PARKS ...</td>\n",
       "      <td>8</td>\n",
       "      <td>White</td>\n",
       "      <td>30</td>\n",
       "      <td>Male</td>\n",
       "      <td>16</td>\n",
       "      <td>None</td>\n",
       "    </tr>\n",
       "    <tr>\n",
       "      <th>4531708</th>\n",
       "      <td>161095</td>\n",
       "      <td>29</td>\n",
       "      <td>Reasonable Suspicion</td>\n",
       "      <td>65000</td>\n",
       "      <td>65000 ZZ - LOCAL ORDINANCE VIOL (M) 65000</td>\n",
       "      <td>Officer witnessed commission of a crime</td>\n",
       "      <td>PED STOP</td>\n",
       "      <td>23</td>\n",
       "      <td>White</td>\n",
       "      <td>38</td>\n",
       "      <td>Male</td>\n",
       "      <td>34</td>\n",
       "      <td>None</td>\n",
       "    </tr>\n",
       "    <tr>\n",
       "      <th>8253331</th>\n",
       "      <td>166818</td>\n",
       "      <td>7</td>\n",
       "      <td>Reasonable Suspicion</td>\n",
       "      <td>65002</td>\n",
       "      <td>65002 ZZ - LOCAL ORDINANCE VIOL (I) 65002</td>\n",
       "      <td>Officer witnessed commission of a crime</td>\n",
       "      <td>63.20.13 SDMC</td>\n",
       "      <td>2</td>\n",
       "      <td>White</td>\n",
       "      <td>7</td>\n",
       "      <td>Female</td>\n",
       "      <td>5</td>\n",
       "      <td>None</td>\n",
       "    </tr>\n",
       "    <tr>\n",
       "      <th>33958551</th>\n",
       "      <td>183646</td>\n",
       "      <td>25</td>\n",
       "      <td>Reasonable Suspicion</td>\n",
       "      <td>65000.0</td>\n",
       "      <td>65000 ZZ - LOCAL ORDINANCE VIOL (M) 65000</td>\n",
       "      <td>Officer witnessed commission of a crime</td>\n",
       "      <td>ped stop involving alcohol</td>\n",
       "      <td>21</td>\n",
       "      <td>Pacific Islander</td>\n",
       "      <td>21</td>\n",
       "      <td>Female</td>\n",
       "      <td>32</td>\n",
       "      <td>None</td>\n",
       "    </tr>\n",
       "    <tr>\n",
       "      <th>44607490</th>\n",
       "      <td>236965</td>\n",
       "      <td>3</td>\n",
       "      <td>Traffic Violation</td>\n",
       "      <td>65002.0</td>\n",
       "      <td>65002 ZZ - LOCAL ORDINANCE VIOL (I) 65002</td>\n",
       "      <td>Moving Violation</td>\n",
       "      <td>PEDESTRIAN, BICYCLE, AND SCOOTER ENFORCEMENT D...</td>\n",
       "      <td>25</td>\n",
       "      <td>Hispanic/Latino/a</td>\n",
       "      <td>7</td>\n",
       "      <td>Male</td>\n",
       "      <td>17</td>\n",
       "      <td>None</td>\n",
       "    </tr>\n",
       "  </tbody>\n",
       "</table>\n",
       "</div>"
      ],
      "text/plain": [
       "          stop_id  pid_x       reason_for_stop reason_for_stopcode  \\\n",
       "35813801   183655     26  Reasonable Suspicion             65002.0   \n",
       "39966756   184085     28  Reasonable Suspicion             65000.0   \n",
       "8739975    167322      7  Reasonable Suspicion               65000   \n",
       "29896118   180326     27  Reasonable Suspicion             65000.0   \n",
       "36588830   183655     38  Reasonable Suspicion             65002.0   \n",
       "5632174    162022     11  Reasonable Suspicion               65002   \n",
       "4531708    161095     29  Reasonable Suspicion               65000   \n",
       "8253331    166818      7  Reasonable Suspicion               65002   \n",
       "33958551   183646     25  Reasonable Suspicion             65000.0   \n",
       "44607490   236965      3     Traffic Violation             65002.0   \n",
       "\n",
       "                          reason_for_stop_code_text  \\\n",
       "35813801  65002 ZZ - LOCAL ORDINANCE VIOL (I) 65002   \n",
       "39966756  65000 ZZ - LOCAL ORDINANCE VIOL (M) 65000   \n",
       "8739975   65000 ZZ - LOCAL ORDINANCE VIOL (M) 65000   \n",
       "29896118  65000 ZZ - LOCAL ORDINANCE VIOL (M) 65000   \n",
       "36588830  65002 ZZ - LOCAL ORDINANCE VIOL (I) 65002   \n",
       "5632174   65002 ZZ - LOCAL ORDINANCE VIOL (I) 65002   \n",
       "4531708   65000 ZZ - LOCAL ORDINANCE VIOL (M) 65000   \n",
       "8253331   65002 ZZ - LOCAL ORDINANCE VIOL (I) 65002   \n",
       "33958551  65000 ZZ - LOCAL ORDINANCE VIOL (M) 65000   \n",
       "44607490  65002 ZZ - LOCAL ORDINANCE VIOL (I) 65002   \n",
       "\n",
       "                           reason_for_stop_detail  \\\n",
       "35813801  Officer witnessed commission of a crime   \n",
       "39966756  Officer witnessed commission of a crime   \n",
       "8739975   Officer witnessed commission of a crime   \n",
       "29896118  Officer witnessed commission of a crime   \n",
       "36588830  Officer witnessed commission of a crime   \n",
       "5632174   Officer witnessed commission of a crime   \n",
       "4531708   Officer witnessed commission of a crime   \n",
       "8253331   Officer witnessed commission of a crime   \n",
       "33958551  Officer witnessed commission of a crime   \n",
       "44607490                         Moving Violation   \n",
       "\n",
       "                                reason_for_stop_explanation  pid_y  \\\n",
       "35813801               VIOLATION OF BEACH / BOARDWALK RULES      9   \n",
       "39966756                         ped stop involving alcohol     22   \n",
       "8739975                                            ped stop      2   \n",
       "29896118                                           ped stop     19   \n",
       "36588830               VIOLATION OF BEACH / BOARDWALK RULES     14   \n",
       "5632174   PACIFIC BEACH/MISSION BEACH/MISSION BAY PARKS ...      8   \n",
       "4531708                                            PED STOP     23   \n",
       "8253331                                       63.20.13 SDMC      2   \n",
       "33958551                         ped stop involving alcohol     21   \n",
       "44607490  PEDESTRIAN, BICYCLE, AND SCOOTER ENFORCEMENT D...     25   \n",
       "\n",
       "                                   race  pid_x  gender  pid_y disability  \n",
       "35813801              Hispanic/Latino/a     35  Female     10       None  \n",
       "39966756                          White      5    Male      8       None  \n",
       "8739975                           White     12    Male      3       None  \n",
       "29896118              Hispanic/Latino/a      7    Male     36       None  \n",
       "36588830  Middle Eastern or South Asian     10    Male     39       None  \n",
       "5632174                           White     30    Male     16       None  \n",
       "4531708                           White     38    Male     34       None  \n",
       "8253331                           White      7  Female      5       None  \n",
       "33958551               Pacific Islander     21  Female     32       None  \n",
       "44607490              Hispanic/Latino/a      7    Male     17       None  "
      ]
     },
     "execution_count": 17,
     "metadata": {},
     "output_type": "execute_result"
    }
   ],
   "source": [
    "merged.sample(10)"
   ]
  },
  {
   "cell_type": "code",
   "execution_count": null,
   "metadata": {
    "colab": {},
    "colab_type": "code",
    "id": "OCgBvB1h25Rq"
   },
   "outputs": [],
   "source": []
  }
 ],
 "metadata": {
  "colab": {
   "collapsed_sections": [],
   "name": "clustering.ipynb",
   "provenance": []
  },
  "kernelspec": {
   "display_name": "Python 3",
   "language": "python",
   "name": "python3"
  },
  "language_info": {
   "codemirror_mode": {
    "name": "ipython",
    "version": 3
   },
   "file_extension": ".py",
   "mimetype": "text/x-python",
   "name": "python",
   "nbconvert_exporter": "python",
   "pygments_lexer": "ipython3",
   "version": "3.8.3"
  }
 },
 "nbformat": 4,
 "nbformat_minor": 4
}
