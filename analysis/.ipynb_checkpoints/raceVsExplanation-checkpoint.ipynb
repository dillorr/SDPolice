{
 "cells": [
  {
   "cell_type": "code",
   "execution_count": null,
   "metadata": {
    "colab": {
     "base_uri": "https://localhost:8080/",
     "height": 35
    },
    "colab_type": "code",
    "executionInfo": {
     "elapsed": 29166,
     "status": "ok",
     "timestamp": 1600055806069,
     "user": {
      "displayName": "Dillon Orr",
      "photoUrl": "https://lh3.googleusercontent.com/a-/AOh14GhZTvBi8ofohgLq8_2C5rlsgMi8VUlaAYCsrNLgeg=s64",
      "userId": "08724767709533058264"
     },
     "user_tz": 420
    },
    "id": "DGc6a3r0wW8N",
    "outputId": "29f50940-568a-499f-a3a3-96c5fe3e6549"
   },
   "outputs": [
    {
     "name": "stdout",
     "output_type": "stream",
     "text": [
      "Mounted at /content/drive\n"
     ]
    }
   ],
   "source": [
    "# from google.colab import drive\n",
    "# drive.mount('/content/drive')"
   ]
  },
  {
   "cell_type": "code",
   "execution_count": null,
   "metadata": {
    "colab": {},
    "colab_type": "code",
    "id": "XgvJ346TwPWT"
   },
   "outputs": [],
   "source": [
    "import pandas as pd"
   ]
  },
  {
   "cell_type": "code",
   "execution_count": null,
   "metadata": {
    "colab": {},
    "colab_type": "code",
    "id": "YdZwtvFVwPWa"
   },
   "outputs": [],
   "source": [
    "# reason for stop data\n",
    "path = r'/content/drive/My Drive/SDTechHub/policeData/reasonForStop/ripa_stop_reason_datasd.csv'\n",
    "stopReason = pd.read_csv(path, dtype={'stop_id': int,\n",
    "                              'reason_for_stop': 'str',\n",
    "                             'reason_for_stopcode': 'str',\n",
    "                             'reason_for_stopcode_text': 'str',\n",
    "                             'reason_for_stop_detail': 'str',\n",
    "                             'reason_for_stop_explanation': 'str'})"
   ]
  },
  {
   "cell_type": "code",
   "execution_count": null,
   "metadata": {
    "colab": {},
    "colab_type": "code",
    "id": "7wNt9n_IwPWh"
   },
   "outputs": [],
   "source": [
    "# race of persons data\n",
    "path = r'/content/drive/My Drive/SDTechHub/policeData/raceOfPersons/ripa_race_datasd.csv'\n",
    "stopRace = pd.read_csv(path, dtype={'stop_id': int,\n",
    "                              'pid': 'int',\n",
    "                             'race': 'str',})"
   ]
  },
  {
   "cell_type": "code",
   "execution_count": null,
   "metadata": {
    "colab": {},
    "colab_type": "code",
    "id": "U5IWrjxmwPWl"
   },
   "outputs": [],
   "source": [
    "combined = stopReason.merge(stopRace, on='stop_id', how ='left')"
   ]
  },
  {
   "cell_type": "code",
   "execution_count": null,
   "metadata": {
    "colab": {
     "base_uri": "https://localhost:8080/",
     "height": 164
    },
    "colab_type": "code",
    "executionInfo": {
     "elapsed": 618,
     "status": "ok",
     "timestamp": 1600055900084,
     "user": {
      "displayName": "Dillon Orr",
      "photoUrl": "https://lh3.googleusercontent.com/a-/AOh14GhZTvBi8ofohgLq8_2C5rlsgMi8VUlaAYCsrNLgeg=s64",
      "userId": "08724767709533058264"
     },
     "user_tz": 420
    },
    "id": "q9IWC_KvwPWp",
    "outputId": "150bc919-b924-4449-b083-a9fcb9ad3b9f"
   },
   "outputs": [
    {
     "data": {
      "text/plain": [
       "White                            246561\n",
       "Hispanic/Latino/a                154003\n",
       "Black/African American           111655\n",
       "Asian                             23452\n",
       "Middle Eastern or South Asian     13431\n",
       "Pacific Islander                   5080\n",
       "Native American                    1473\n",
       "Name: race, dtype: int64"
      ]
     },
     "execution_count": 7,
     "metadata": {
      "tags": []
     },
     "output_type": "execute_result"
    }
   ],
   "source": [
    "combined.race.value_counts()"
   ]
  },
  {
   "cell_type": "code",
   "execution_count": null,
   "metadata": {
    "colab": {
     "base_uri": "https://localhost:8080/",
     "height": 206
    },
    "colab_type": "code",
    "executionInfo": {
     "elapsed": 440,
     "status": "ok",
     "timestamp": 1600055902082,
     "user": {
      "displayName": "Dillon Orr",
      "photoUrl": "https://lh3.googleusercontent.com/a-/AOh14GhZTvBi8ofohgLq8_2C5rlsgMi8VUlaAYCsrNLgeg=s64",
      "userId": "08724767709533058264"
     },
     "user_tz": 420
    },
    "id": "jwCiqlT2wPWv",
    "outputId": "0bbb6d19-13c4-44e3-c05f-110dbf2d4a5c"
   },
   "outputs": [
    {
     "data": {
      "text/html": [
       "<div>\n",
       "<style scoped>\n",
       "    .dataframe tbody tr th:only-of-type {\n",
       "        vertical-align: middle;\n",
       "    }\n",
       "\n",
       "    .dataframe tbody tr th {\n",
       "        vertical-align: top;\n",
       "    }\n",
       "\n",
       "    .dataframe thead th {\n",
       "        text-align: right;\n",
       "    }\n",
       "</style>\n",
       "<table border=\"1\" class=\"dataframe\">\n",
       "  <thead>\n",
       "    <tr style=\"text-align: right;\">\n",
       "      <th></th>\n",
       "      <th>race</th>\n",
       "      <th>reason_for_stop_explanation</th>\n",
       "    </tr>\n",
       "  </thead>\n",
       "  <tbody>\n",
       "    <tr>\n",
       "      <th>0</th>\n",
       "      <td>White</td>\n",
       "      <td>staggering, unable to safely walk</td>\n",
       "    </tr>\n",
       "    <tr>\n",
       "      <th>1</th>\n",
       "      <td>White</td>\n",
       "      <td>Speeding</td>\n",
       "    </tr>\n",
       "    <tr>\n",
       "      <th>2</th>\n",
       "      <td>Hispanic/Latino/a</td>\n",
       "      <td>Both parties involved in argument.</td>\n",
       "    </tr>\n",
       "    <tr>\n",
       "      <th>3</th>\n",
       "      <td>Hispanic/Latino/a</td>\n",
       "      <td>Both parties involved in argument.</td>\n",
       "    </tr>\n",
       "    <tr>\n",
       "      <th>4</th>\n",
       "      <td>Hispanic/Latino/a</td>\n",
       "      <td>Both parties engaged in argument.</td>\n",
       "    </tr>\n",
       "  </tbody>\n",
       "</table>\n",
       "</div>"
      ],
      "text/plain": [
       "                race         reason_for_stop_explanation\n",
       "0              White   staggering, unable to safely walk\n",
       "1              White                            Speeding\n",
       "2  Hispanic/Latino/a  Both parties involved in argument.\n",
       "3  Hispanic/Latino/a  Both parties involved in argument.\n",
       "4  Hispanic/Latino/a   Both parties engaged in argument."
      ]
     },
     "execution_count": 8,
     "metadata": {
      "tags": []
     },
     "output_type": "execute_result"
    }
   ],
   "source": [
    "raceVsExplanation = combined[['race','reason_for_stop_explanation']]\n",
    "raceVsExplanation.head()"
   ]
  },
  {
   "cell_type": "code",
   "execution_count": null,
   "metadata": {
    "colab": {},
    "colab_type": "code",
    "id": "Gaacc3LhwPWz"
   },
   "outputs": [],
   "source": [
    "#raceVsExplanation.to_csv(r'raceVsExplanation.csv', index = False)"
   ]
  },
  {
   "cell_type": "code",
   "execution_count": null,
   "metadata": {
    "colab": {},
    "colab_type": "code",
    "id": "DejPZbezwPW2"
   },
   "outputs": [],
   "source": []
  }
 ],
 "metadata": {
  "colab": {
   "collapsed_sections": [],
   "name": "raceVsExplanation.ipynb",
   "provenance": []
  },
  "kernelspec": {
   "display_name": "Python 3",
   "language": "python",
   "name": "python3"
  },
  "language_info": {
   "codemirror_mode": {
    "name": "ipython",
    "version": 3
   },
   "file_extension": ".py",
   "mimetype": "text/x-python",
   "name": "python",
   "nbconvert_exporter": "python",
   "pygments_lexer": "ipython3",
   "version": "3.8.5"
  }
 },
 "nbformat": 4,
 "nbformat_minor": 4
}
