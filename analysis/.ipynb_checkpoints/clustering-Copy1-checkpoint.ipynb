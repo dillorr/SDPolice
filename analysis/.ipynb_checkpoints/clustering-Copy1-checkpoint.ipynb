{
 "cells": [
  {
   "cell_type": "code",
   "execution_count": 15,
   "metadata": {
    "colab": {},
    "colab_type": "code",
    "executionInfo": {
     "elapsed": 552,
     "status": "ok",
     "timestamp": 1600142310716,
     "user": {
      "displayName": "Dillon Orr",
      "photoUrl": "https://lh3.googleusercontent.com/a-/AOh14GhZTvBi8ofohgLq8_2C5rlsgMi8VUlaAYCsrNLgeg=s64",
      "userId": "08724767709533058264"
     },
     "user_tz": 420
    },
    "id": "C_kNCjjJ29fA"
   },
   "outputs": [],
   "source": [
    "# from google.colab import drive\n",
    "# drive.mount('/content/drive')"
   ]
  },
  {
   "cell_type": "code",
   "execution_count": 16,
   "metadata": {
    "colab": {},
    "colab_type": "code",
    "executionInfo": {
     "elapsed": 633,
     "status": "ok",
     "timestamp": 1600142312413,
     "user": {
      "displayName": "Dillon Orr",
      "photoUrl": "https://lh3.googleusercontent.com/a-/AOh14GhZTvBi8ofohgLq8_2C5rlsgMi8VUlaAYCsrNLgeg=s64",
      "userId": "08724767709533058264"
     },
     "user_tz": 420
    },
    "id": "T8Qx1E7725Qj"
   },
   "outputs": [],
   "source": [
    "import pandas as pd"
   ]
  },
  {
   "cell_type": "code",
   "execution_count": 17,
   "metadata": {
    "colab": {},
    "colab_type": "code",
    "executionInfo": {
     "elapsed": 868,
     "status": "ok",
     "timestamp": 1600142313046,
     "user": {
      "displayName": "Dillon Orr",
      "photoUrl": "https://lh3.googleusercontent.com/a-/AOh14GhZTvBi8ofohgLq8_2C5rlsgMi8VUlaAYCsrNLgeg=s64",
      "userId": "08724767709533058264"
     },
     "user_tz": 420
    },
    "id": "bqd9DPUb25RG"
   },
   "outputs": [],
   "source": [
    "# actions taken\n",
    "path = r'../policeData/actionsTaken/ripa_actions_taken_datasd.csv'\n",
    "actionsTaken = pd.read_csv(path, dtype={'stop_id': int,\n",
    "                              'pid': int,\n",
    "                             'action': str,\n",
    "                                  'consented': str})"
   ]
  },
  {
   "cell_type": "code",
   "execution_count": 18,
   "metadata": {
    "colab": {},
    "colab_type": "code",
    "executionInfo": {
     "elapsed": 631,
     "status": "ok",
     "timestamp": 1600142313355,
     "user": {
      "displayName": "Dillon Orr",
      "photoUrl": "https://lh3.googleusercontent.com/a-/AOh14GhZTvBi8ofohgLq8_2C5rlsgMi8VUlaAYCsrNLgeg=s64",
      "userId": "08724767709533058264"
     },
     "user_tz": 420
    },
    "id": "dgfZL_Fx25RL"
   },
   "outputs": [],
   "source": [
    "# basis For Property Seizure\n",
    "path = r'../policeData/basisForPropertySeizure/ripa_prop_seize_basis_datasd.csv'\n",
    "seizureBasis = pd.read_csv(path, dtype={'stop_id': int,\n",
    "                              'pid': int,\n",
    "                             'basisforpropertyseizure': str})"
   ]
  },
  {
   "cell_type": "code",
   "execution_count": 19,
   "metadata": {
    "colab": {},
    "colab_type": "code",
    "executionInfo": {
     "elapsed": 932,
     "status": "ok",
     "timestamp": 1600142313918,
     "user": {
      "displayName": "Dillon Orr",
      "photoUrl": "https://lh3.googleusercontent.com/a-/AOh14GhZTvBi8ofohgLq8_2C5rlsgMi8VUlaAYCsrNLgeg=s64",
      "userId": "08724767709533058264"
     },
     "user_tz": 420
    },
    "id": "JZsfUiub25RO"
   },
   "outputs": [],
   "source": [
    "# basis for search\n",
    "path = r'../policeData/basisForSearchesConducted/ripa_search_basis_datasd.csv'\n",
    "searchBasis = pd.read_csv(path, dtype={'stop_id': int,\n",
    "                              'pid': int,\n",
    "                             'basis_for_search': str,\n",
    "                                'basis_for_search_explanation': str})"
   ]
  },
  {
   "cell_type": "code",
   "execution_count": 20,
   "metadata": {
    "colab": {},
    "colab_type": "code",
    "executionInfo": {
     "elapsed": 732,
     "status": "ok",
     "timestamp": 1600142313919,
     "user": {
      "displayName": "Dillon Orr",
      "photoUrl": "https://lh3.googleusercontent.com/a-/AOh14GhZTvBi8ofohgLq8_2C5rlsgMi8VUlaAYCsrNLgeg=s64",
      "userId": "08724767709533058264"
     },
     "user_tz": 420
    },
    "id": "fYISu8bz25RB"
   },
   "outputs": [],
   "source": [
    "# disability\n",
    "path = r'../policeData/disabilityOfPersons/ripa_disability_datasd.csv'\n",
    "disability = pd.read_csv(path, dtype={'stop_id': int,\n",
    "                              'pid': int,\n",
    "                             'disability': str})"
   ]
  },
  {
   "cell_type": "code",
   "execution_count": 21,
   "metadata": {
    "colab": {},
    "colab_type": "code",
    "executionInfo": {
     "elapsed": 711,
     "status": "ok",
     "timestamp": 1600142314137,
     "user": {
      "displayName": "Dillon Orr",
      "photoUrl": "https://lh3.googleusercontent.com/a-/AOh14GhZTvBi8ofohgLq8_2C5rlsgMi8VUlaAYCsrNLgeg=s64",
      "userId": "08724767709533058264"
     },
     "user_tz": 420
    },
    "id": "3xQkm-Rg25Q9"
   },
   "outputs": [],
   "source": [
    "# gender\n",
    "path = r'../policeData/genderOfPersons/ripa_gender_datasd.csv'\n",
    "gender = pd.read_csv(path, dtype={'stop_id': int,\n",
    "                              'pid': int,\n",
    "                             'gender': str})"
   ]
  },
  {
   "cell_type": "code",
   "execution_count": 22,
   "metadata": {
    "colab": {},
    "colab_type": "code",
    "executionInfo": {
     "elapsed": 933,
     "status": "ok",
     "timestamp": 1600142314613,
     "user": {
      "displayName": "Dillon Orr",
      "photoUrl": "https://lh3.googleusercontent.com/a-/AOh14GhZTvBi8ofohgLq8_2C5rlsgMi8VUlaAYCsrNLgeg=s64",
      "userId": "08724767709533058264"
     },
     "user_tz": 420
    },
    "id": "cOqA3OZz25RR"
   },
   "outputs": [],
   "source": [
    "# property seized\n",
    "path = r'../policeData/propertySeized/ripa_prop_seize_type_datasd.csv'\n",
    "propertySeized = pd.read_csv(path, dtype={'stop_id': int,\n",
    "                              'pid': int,\n",
    "                             'type_of_propery_seized': str})"
   ]
  },
  {
   "cell_type": "code",
   "execution_count": 23,
   "metadata": {
    "colab": {},
    "colab_type": "code",
    "executionInfo": {
     "elapsed": 622,
     "status": "ok",
     "timestamp": 1600142314614,
     "user": {
      "displayName": "Dillon Orr",
      "photoUrl": "https://lh3.googleusercontent.com/a-/AOh14GhZTvBi8ofohgLq8_2C5rlsgMi8VUlaAYCsrNLgeg=s64",
      "userId": "08724767709533058264"
     },
     "user_tz": 420
    },
    "id": "vLq8xQwE25Q4"
   },
   "outputs": [],
   "source": [
    "# race data\n",
    "path = r'../policeData/raceOfPersons/ripa_race_datasd.csv'\n",
    "race = pd.read_csv(path, dtype={'stop_id': int,\n",
    "                              'pid': int,\n",
    "                             'race': str})"
   ]
  },
  {
   "cell_type": "code",
   "execution_count": 24,
   "metadata": {
    "colab": {},
    "colab_type": "code",
    "executionInfo": {
     "elapsed": 1431,
     "status": "ok",
     "timestamp": 1600142315763,
     "user": {
      "displayName": "Dillon Orr",
      "photoUrl": "https://lh3.googleusercontent.com/a-/AOh14GhZTvBi8ofohgLq8_2C5rlsgMi8VUlaAYCsrNLgeg=s64",
      "userId": "08724767709533058264"
     },
     "user_tz": 420
    },
    "id": "WvyhbXPT25Qq"
   },
   "outputs": [],
   "source": [
    "# reason for stop data\n",
    "path = r'../policeData/reasonForStop/ripa_stop_reason_datasd.csv'\n",
    "reason = pd.read_csv(path, dtype={'stop_id': int,\n",
    "                              'reason_for_stop': str,\n",
    "                             'reason_for_stopcode': str,\n",
    "                             'reason_for_stopcode_text': str,\n",
    "                             'reason_for_stop_detail': str,\n",
    "                             'reason_for_stop_explanation': str})"
   ]
  },
  {
   "cell_type": "code",
   "execution_count": 25,
   "metadata": {
    "colab": {},
    "colab_type": "code",
    "executionInfo": {
     "elapsed": 1916,
     "status": "ok",
     "timestamp": 1600142316794,
     "user": {
      "displayName": "Dillon Orr",
      "photoUrl": "https://lh3.googleusercontent.com/a-/AOh14GhZTvBi8ofohgLq8_2C5rlsgMi8VUlaAYCsrNLgeg=s64",
      "userId": "08724767709533058264"
     },
     "user_tz": 420
    },
    "id": "egKwO2Iw25RV"
   },
   "outputs": [],
   "source": [
    "# stop result\n",
    "path = r'../policeData/resultOfStop/ripa_stop_result_datasd.csv'\n",
    "stopResult = pd.read_csv(path, dtype={'stop_id': int,\n",
    "                                  'pid': int,\n",
    "                                'resultkey': int,\n",
    "                                   'result': str,\n",
    "                                   'code': float,\n",
    "                             'resulttext': str})"
   ]
  },
  {
   "cell_type": "code",
   "execution_count": 26,
   "metadata": {
    "colab": {},
    "colab_type": "code",
    "executionInfo": {
     "elapsed": 2223,
     "status": "ok",
     "timestamp": 1600144651103,
     "user": {
      "displayName": "Dillon Orr",
      "photoUrl": "https://lh3.googleusercontent.com/a-/AOh14GhZTvBi8ofohgLq8_2C5rlsgMi8VUlaAYCsrNLgeg=s64",
      "userId": "08724767709533058264"
     },
     "user_tz": 420
    },
    "id": "SOmqS82R25RY"
   },
   "outputs": [],
   "source": [
    "# stop details\n",
    "path = r'../policeData/stopDetails/ripa_stops_datasd.csv'\n",
    "datesToParse = ['date_stop','time_stop']\n",
    "stopDetails = pd.read_csv(path, dtype={'stop_id': int,\n",
    "                                  'ori': str,\n",
    "                                 'agency': str,\n",
    "                                 'exp_years': int,\n",
    "                                 'date_stop': str,\n",
    "                                 'time_stop': str,\n",
    "                                 'stopduration': int,\n",
    "                                 'stop_in_response_to_cfs': bool,\n",
    "                                  'officer_assignment_key': int,\n",
    "                                  'assignment': str,\n",
    "                                  'intersection': str,\n",
    "                                  'address_block': float,\n",
    "                                  'land_mark': str,\n",
    "                                  'address_street': str,\n",
    "                                  'highway_exit':str,\n",
    "                                  'isschool': bool,\n",
    "                                  'address_city':str,\n",
    "                                  'beat':int,\n",
    "                                  'beat_name':str,\n",
    "                                  'pid':int,\n",
    "                                  'isstudent':bool,\n",
    "                                  'perceived_limited_english': bool,\n",
    "                                  'perceived_age': int,\n",
    "                                  'perceived_gender': str,\n",
    "                                  'gender_nonconforming': bool,\n",
    "                                  'gend': int,\n",
    "                                  'gend_nc': str,\n",
    "                                  'perceived_lgbt': str})"
   ]
  },
  {
   "cell_type": "code",
   "execution_count": 27,
   "metadata": {},
   "outputs": [
    {
     "data": {
      "text/plain": [
       "['actionsTaken',\n",
       " 'disability',\n",
       " 'gender',\n",
       " 'propertySeized',\n",
       " 'race',\n",
       " 'reason',\n",
       " 'searchBasis',\n",
       " 'seizureBasis',\n",
       " 'stopDetails',\n",
       " 'stopResult']"
      ]
     },
     "execution_count": 27,
     "metadata": {},
     "output_type": "execute_result"
    }
   ],
   "source": [
    "dataframeNames = {'reason', 'race', 'gender', 'disability', 'actionsTaken', 'seizureBasis', \n",
    "                  'searchBasis', 'propertySeized', 'stopResult', 'stopDetails'}\n",
    "sorted(dataframeNames)"
   ]
  },
  {
   "cell_type": "code",
   "execution_count": null,
   "metadata": {},
   "outputs": [],
   "source": [
    "# from functools import reduce\n",
    "\n",
    "# dataframes = [reason, race, gender, disability, actionsTaken, seizureBasis, searchBasis, propertySeized, stopResult, stopDetails]\n",
    "# df_merged = reduce(lambda  left,right: pd.merge(left,right,on=['stop_id'],\n",
    "#                                             how='outer'), dataframes).fillna('void')\n"
   ]
  },
  {
   "cell_type": "code",
   "execution_count": 29,
   "metadata": {
    "colab": {},
    "colab_type": "code",
    "id": "03XZblTp25Rf"
   },
   "outputs": [],
   "source": [
    "# reason race disability\n",
    "merged = actionsTaken.merge(disability, on='stop_id', how ='left')\n",
    "merged = merged.merge(gender, on='stop_id', how ='left')\n",
    "\n",
    "merged.to_csv(r'./dumps/actionsDisabilityGender.csv', index = False)\n"
   ]
  },
  {
   "cell_type": "code",
   "execution_count": 30,
   "metadata": {},
   "outputs": [],
   "source": [
    "merged = propertySeized.merge(race, on='stop_id', how ='left')\n",
    "merged = merged.merge(reason, on='stop_id', how ='left')\n",
    "\n",
    "merged.to_csv(r'./dumps/propertyRaceReason.csv', index = False)"
   ]
  },
  {
   "cell_type": "code",
   "execution_count": 35,
   "metadata": {
    "colab": {},
    "colab_type": "code",
    "id": "OCgBvB1h25Rq"
   },
   "outputs": [],
   "source": [
    "merged = searchBasis.merge(seizureBasis, on='stop_id', how ='left')\n",
    "merged = merged.merge(stopDetails, on='stop_id', how ='left')\n",
    "\n",
    "merged.to_csv(r'./dumps/searchSeizureStopDetails.csv', index = False)\n"
   ]
  },
  {
   "cell_type": "code",
   "execution_count": 36,
   "metadata": {},
   "outputs": [],
   "source": [
    "stopResult.to_csv(r'./dumps/stopResults.csv', index = False)"
   ]
  },
  {
   "cell_type": "code",
   "execution_count": 37,
   "metadata": {},
   "outputs": [
    {
     "name": "stderr",
     "output_type": "stream",
     "text": [
      "C:\\Users\\dillon\\anaconda3\\lib\\site-packages\\IPython\\core\\interactiveshell.py:3071: DtypeWarning: Columns (3) have mixed types.Specify dtype option on import or set low_memory=False.\n",
      "  has_raised = await self.run_ast_nodes(code_ast.body, cell_name,\n"
     ]
    }
   ],
   "source": [
    "actions = pd.read_csv (r'./dumps/actionsDisabilityGender.csv')"
   ]
  },
  {
   "cell_type": "code",
   "execution_count": null,
   "metadata": {},
   "outputs": [],
   "source": []
  }
 ],
 "metadata": {
  "colab": {
   "collapsed_sections": [],
   "name": "clustering.ipynb",
   "provenance": []
  },
  "kernelspec": {
   "display_name": "Python 3",
   "language": "python",
   "name": "python3"
  },
  "language_info": {
   "codemirror_mode": {
    "name": "ipython",
    "version": 3
   },
   "file_extension": ".py",
   "mimetype": "text/x-python",
   "name": "python",
   "nbconvert_exporter": "python",
   "pygments_lexer": "ipython3",
   "version": "3.8.3"
  }
 },
 "nbformat": 4,
 "nbformat_minor": 4
}
